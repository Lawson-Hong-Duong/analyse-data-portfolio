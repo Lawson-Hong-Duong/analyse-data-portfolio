{
 "cells": [
  {
   "cell_type": "markdown",
   "id": "19424cfe",
   "metadata": {},
   "source": [
    "# Reflective Report on Portfolio 4\n"
   ]
  },
  {
   "cell_type": "markdown",
   "id": "0097ff5e",
   "metadata": {},
   "source": [
    "Throughout the unit i have progressed significantly in learning data science and using Jupyter notebooks as a platform for conducting data analyses.The choices of working with large dataset seem daunting.In this reflective report i will be talking about the two points which are choice of dataset and Problem Identification and Solution Approach."
   ]
  },
  {
   "cell_type": "markdown",
   "id": "d51540b4",
   "metadata": {},
   "source": [
    " \n",
    "The dataset was my choice due to it complexity and have real-world relevance.It was suited for a complete analysis since it has serveral variable that is both numerical and categorical.The selection of the dataset was a pivotal step in the analytical undertaken within Portfolio 4.I was aimed for a dataset that had some complexity as well as had some relevance in a real world setting.The dataset breast cancer diversity presented an opportunity for an in-depth and comprehensive exploration of various analytical technique.The dataset's unusual structure served two purposes: first, it promoted the use of a wide range of data analysis approaches, and second, it gave me the opportunity to refine my abilities on a dataset that closely resembles the ambiguous and complex nature of real-world data"
   ]
  },
  {
   "cell_type": "markdown",
   "id": "431e0aca",
   "metadata": {},
   "source": [
    "\n",
    "The main problem I aimed to solve was predicting the 'status' variable in the dataset.By using a combination of data exploration, visualization, preprocessing and modeling was necessary for the classification of this task.\n",
    "The analytical targeted in my portfolio was the prediction of the 'status' variable within the dataset.This problem required a systematic approach that included data exploration, visualisation, preprocessing, and application of suitable modelling approaches.\n",
    "\n",
    "The first stage of data exploration was crucial in understanding the underlying structure and relationships within the dataset.In order to do this, the data had to be examined for trends, correlations and any outliers.Visualization is an important to performed as it provide a tangible representations of data patterns that help to solidified my understanding of the features of the dataset.I uses boxplot and pairplot as visualization for dataset breast cancer to observe the features more better.\n",
    "\n",
    "The next stage would be preprocessing A crucial step in cleaning up the dataset and preparing it for modelling.The tchniques such as encoding, normalization, and handling missing values were utilized to prepare the data.For the case of my dataset there wasn't any missing value or missing columns so the dataset did not need preprocessing as much.\n",
    "\n",
    "The last stage in which i applied models for the prediction task.A crucial method for comprehending the relationships between the variables in a binary classification problem was the use of logistic regression.In which was used for the dataset in portfolio 4.The K-Nearest Neighbours (KNN) classifier was then used to dive deeper into the prediction problem and offer a different approach to categorisation."
   ]
  },
  {
   "cell_type": "markdown",
   "id": "e9c479ec",
   "metadata": {},
   "source": [
    "Both models were able to predict the'status' variable with a fair amount of accuracy.Which indicate that the features chosen were apllicable for prediction.The KNN model performed better than the regression models."
   ]
  }
 ],
 "metadata": {
  "kernelspec": {
   "display_name": "Python 3 (ipykernel)",
   "language": "python",
   "name": "python3"
  },
  "language_info": {
   "codemirror_mode": {
    "name": "ipython",
    "version": 3
   },
   "file_extension": ".py",
   "mimetype": "text/x-python",
   "name": "python",
   "nbconvert_exporter": "python",
   "pygments_lexer": "ipython3",
   "version": "3.9.13"
  }
 },
 "nbformat": 4,
 "nbformat_minor": 5
}
