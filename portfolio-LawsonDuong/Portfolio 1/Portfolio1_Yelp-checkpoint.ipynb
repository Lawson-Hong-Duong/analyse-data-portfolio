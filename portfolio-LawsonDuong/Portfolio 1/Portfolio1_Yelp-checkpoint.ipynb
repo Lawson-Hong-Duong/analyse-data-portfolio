{
 "cells": [
  {
   "cell_type": "markdown",
   "id": "379d9b3f",
   "metadata": {},
   "source": [
    "# Analysis of Yelp Data\n",
    "\n",
    "\n",
    "The Yelp dataset is a collection of user-generated reviews and associated data for businesses in various cities. The data includes information such as the business name, category, location, and rating, as well as the user ID and review text for each review. This data can be used to analyze patterns and trends in consumer behavior, business performance, and geographic locations. Additionally, the dataset provides an opportunity to explore the relationships between different variables, such as ratings, reviews, and business categories. This data can be leveraged to gain insights and make informed decisions in a variety of industries, including marketing, business management, and public policy.\n",
    "\n",
    "Description of the variables of the data used here.\n",
    "\n",
    "* __business_id__ - A unique identifier for each business in the dataset\n",
    "* __business_categories__ - A list of categories associated with the business\n",
    "* __business_city__ - The city where the business is located.\n",
    "* __user_id__ - A unique identifier for each user who has written a review.\n",
    "* __text__ - The text of the review.\n",
    "* __stars__ - The user's rating towards the business\n",
    "* __useful__ - The number of times the review was voted as useful.\n",
    "* __date__ - The date the review was posted."
   ]
  },
  {
   "cell_type": "markdown",
   "id": "5edf3fef",
   "metadata": {},
   "source": [
    " # Q1. Check and remove missing data\n",
    " \n",
    "### Q1.1 Write a Python code snippet that checks for missing values in each column of the dataset. If any, only display the names of the columns with missing values and their corresponding number of missing values. Print the length of the data before removing the missing data.\n",
    "\n",
    "Note: Only output the number of missing values for the columns having at least one missing value!"
   ]
  },
  {
   "cell_type": "code",
   "execution_count": 7,
   "id": "5303e35a",
   "metadata": {},
   "outputs": [],
   "source": [
    "# your code and solutions\n",
    "import pandas as pd\n",
    "import matplotlib.pyplot as plt\n",
    "%matplotlib inline\n",
    "import random "
   ]
  },
  {
   "cell_type": "code",
   "execution_count": 8,
   "id": "cf10e8eb",
   "metadata": {},
   "outputs": [],
   "source": [
    "origin_df = pd.read_csv('Yelp_Portfolio1_Input.csv')"
   ]
  },
  {
   "cell_type": "code",
   "execution_count": 9,
   "id": "608ea616",
   "metadata": {},
   "outputs": [
    {
     "data": {
      "text/html": [
       "<div>\n",
       "<style scoped>\n",
       "    .dataframe tbody tr th:only-of-type {\n",
       "        vertical-align: middle;\n",
       "    }\n",
       "\n",
       "    .dataframe tbody tr th {\n",
       "        vertical-align: top;\n",
       "    }\n",
       "\n",
       "    .dataframe thead th {\n",
       "        text-align: right;\n",
       "    }\n",
       "</style>\n",
       "<table border=\"1\" class=\"dataframe\">\n",
       "  <thead>\n",
       "    <tr style=\"text-align: right;\">\n",
       "      <th></th>\n",
       "      <th>business_categories</th>\n",
       "      <th>business_city</th>\n",
       "      <th>business_id</th>\n",
       "      <th>date</th>\n",
       "      <th>stars</th>\n",
       "      <th>text</th>\n",
       "      <th>useful</th>\n",
       "      <th>user_id</th>\n",
       "    </tr>\n",
       "  </thead>\n",
       "  <tbody>\n",
       "    <tr>\n",
       "      <th>0</th>\n",
       "      <td>Breakfast &amp; Brunch; Restaurants</td>\n",
       "      <td>Phoenix</td>\n",
       "      <td>9yKzy9PApeiPPOUJEtnvkg</td>\n",
       "      <td>26/1/2011</td>\n",
       "      <td>5</td>\n",
       "      <td>My wife took me here on my birthday for breakf...</td>\n",
       "      <td>5</td>\n",
       "      <td>rLtl8ZkDX5vH5nAx9C3q5Q</td>\n",
       "    </tr>\n",
       "    <tr>\n",
       "      <th>1</th>\n",
       "      <td>Italian; Pizza; Restaurants</td>\n",
       "      <td>Phoenix</td>\n",
       "      <td>ZRJwVLyzEJq1VAihDhYiow</td>\n",
       "      <td>27/7/2011</td>\n",
       "      <td>5</td>\n",
       "      <td>I have no idea why some people give bad review...</td>\n",
       "      <td>0</td>\n",
       "      <td>0a2KyEL0d3Yb1V6aivbIuQ</td>\n",
       "    </tr>\n",
       "    <tr>\n",
       "      <th>2</th>\n",
       "      <td>Middle Eastern; Restaurants</td>\n",
       "      <td>Tempe</td>\n",
       "      <td>6oRAC4uyJCsJl1X0WZpVSA</td>\n",
       "      <td>14/6/2012</td>\n",
       "      <td>4</td>\n",
       "      <td>love the gyro plate. Rice is so good and I als...</td>\n",
       "      <td>1</td>\n",
       "      <td>0hT2KtfLiobPvh6cDC8JQg</td>\n",
       "    </tr>\n",
       "    <tr>\n",
       "      <th>3</th>\n",
       "      <td>Active Life; Dog Parks; Parks</td>\n",
       "      <td>Scottsdale</td>\n",
       "      <td>_1QQZuf4zZOyFCvXc0o6Vg</td>\n",
       "      <td>27/5/2010</td>\n",
       "      <td>5</td>\n",
       "      <td>Rosie, Dakota, and I LOVE Chaparral Dog Park!!...</td>\n",
       "      <td>2</td>\n",
       "      <td>uZetl9T0NcROGOyFfughhg</td>\n",
       "    </tr>\n",
       "    <tr>\n",
       "      <th>4</th>\n",
       "      <td>Tires; Automotive</td>\n",
       "      <td>Mesa</td>\n",
       "      <td>6ozycU1RpktNG2-1BroVtw</td>\n",
       "      <td>5/1/2012</td>\n",
       "      <td>5</td>\n",
       "      <td>General Manager Scott Petello is a good egg!!!...</td>\n",
       "      <td>0</td>\n",
       "      <td>vYmM4KTsC8ZfQBg-j5MWkw</td>\n",
       "    </tr>\n",
       "  </tbody>\n",
       "</table>\n",
       "</div>"
      ],
      "text/plain": [
       "               business_categories business_city             business_id  \\\n",
       "0  Breakfast & Brunch; Restaurants       Phoenix  9yKzy9PApeiPPOUJEtnvkg   \n",
       "1      Italian; Pizza; Restaurants       Phoenix  ZRJwVLyzEJq1VAihDhYiow   \n",
       "2      Middle Eastern; Restaurants         Tempe  6oRAC4uyJCsJl1X0WZpVSA   \n",
       "3    Active Life; Dog Parks; Parks    Scottsdale  _1QQZuf4zZOyFCvXc0o6Vg   \n",
       "4                Tires; Automotive          Mesa  6ozycU1RpktNG2-1BroVtw   \n",
       "\n",
       "        date  stars                                               text  \\\n",
       "0  26/1/2011      5  My wife took me here on my birthday for breakf...   \n",
       "1  27/7/2011      5  I have no idea why some people give bad review...   \n",
       "2  14/6/2012      4  love the gyro plate. Rice is so good and I als...   \n",
       "3  27/5/2010      5  Rosie, Dakota, and I LOVE Chaparral Dog Park!!...   \n",
       "4   5/1/2012      5  General Manager Scott Petello is a good egg!!!...   \n",
       "\n",
       "   useful                 user_id  \n",
       "0       5  rLtl8ZkDX5vH5nAx9C3q5Q  \n",
       "1       0  0a2KyEL0d3Yb1V6aivbIuQ  \n",
       "2       1  0hT2KtfLiobPvh6cDC8JQg  \n",
       "3       2  uZetl9T0NcROGOyFfughhg  \n",
       "4       0  vYmM4KTsC8ZfQBg-j5MWkw  "
      ]
     },
     "execution_count": 9,
     "metadata": {},
     "output_type": "execute_result"
    }
   ],
   "source": [
    "origin_df.head()"
   ]
  },
  {
   "cell_type": "code",
   "execution_count": 11,
   "id": "7f217206",
   "metadata": {},
   "outputs": [
    {
     "name": "stdout",
     "output_type": "stream",
     "text": [
      "Length of dataset before removing the missing data is: 229907\n",
      "Column 'business_categories' have 777 of it missing value(s).\n",
      "Column 'text' have 6 of it missing value(s).\n"
     ]
    }
   ],
   "source": [
    "#print the length of the data before removing the missing data\n",
    "print(\"Length of dataset before removing the missing data is:\" ,len(origin_df))\n",
    "\n",
    "#checking for the missing value in the column of the dataset \n",
    "missing_values = origin_df.isnull().sum()\n",
    "\n",
    "#check for the number of missing values for the columns having at least one missing value then display the names of the columns with missing values and their corresponding number of missing values\n",
    "for column_name,num_missing in missing_values.items():\n",
    "    if num_missing > 0:\n",
    "        print(f\"Column '{column_name}' have {num_missing} of it missing value(s).\")"
   ]
  },
  {
   "cell_type": "markdown",
   "id": "da3df088",
   "metadata": {},
   "source": [
    "### Q1.2 Remove any row that contains at least one missing value, and output the length of the resulting cleaned dataset; After that, remove any row that contain invalid value with either \"#NAME?\" or \"#VALUE!\" in the `business_id` and `user_id` columns, and output the length of the resulting cleaned dataset."
   ]
  },
  {
   "cell_type": "code",
   "execution_count": 12,
   "id": "ba17f19d",
   "metadata": {},
   "outputs": [
    {
     "name": "stdout",
     "output_type": "stream",
     "text": [
      "The length of the resulting cleaned dataset after removing rows with missing values is: 229124\n",
      "The length of cleaned dataset after removing rows with invalid values is: 222759\n"
     ]
    }
   ],
   "source": [
    "# your code and solutions\n",
    "cleaned_df = origin_df.dropna()\n",
    "print(\"The length of the resulting cleaned dataset after removing rows with missing values is:\", len(cleaned_df))\n",
    "\n",
    "#remove any row that contain invalid value with either \"#NAME?\" or \"#VALUE!\" in the business_id and user_id columns,\n",
    "cleaned_df = cleaned_df[(cleaned_df['business_id'] != '#NAME?') & (cleaned_df['business_id'] != '#VALUE!')]\n",
    "cleaned_df = cleaned_df[(cleaned_df['user_id'] != '#NAME?') & (cleaned_df['user_id'] != '#VALUE!')]\n",
    "\n",
    "#output the length of the resulting cleaned dataset\n",
    "print(\"The length of cleaned dataset after removing rows with invalid values is:\", len(cleaned_df))"
   ]
  },
  {
   "cell_type": "markdown",
   "id": "334b9f9e",
   "metadata": {},
   "source": [
    "# Q2. Random Subset Selection of Yelp Businesses by City"
   ]
  },
  {
   "cell_type": "markdown",
   "id": "b386ff6c",
   "metadata": {},
   "source": [
    "Selecting a random subset of cities from the Yelp business dataset and extracting all the rows corresponding to businesses located in those cities can be useful for various purposes. For example, it can be used to \n",
    "perform exploratory data analysis on a smaller subset of the dataset, which can be more manageable and faster to process than the entire dataset. Suppose you want to select a random subset of 10 cities from the dataset and extract all the rows that correspond to businesses located in those cities. At last, print the length of the resulting sample data. Write Python code that accomplishes this task.\n",
    "\n",
    "Note: Use the $random.sample()$ function to select 10 random cities from the list of unique cities. Set the random seed to 42 before selecting the cities!!!"
   ]
  },
  {
   "cell_type": "code",
   "execution_count": 13,
   "id": "0abef7dc",
   "metadata": {},
   "outputs": [
    {
     "name": "stdout",
     "output_type": "stream",
     "text": [
      "The length of the resulting sample data is: 41251\n"
     ]
    }
   ],
   "source": [
    "# your code and solutions\n",
    "#Set the random seed to 42 before selecting the cities\n",
    "random.seed(42)\n",
    "\n",
    "#Randomly sample 10 unique cities\n",
    "unique_cities = origin_df['business_city'].unique()\n",
    "sample_cities = random.sample(list(unique_cities), 10)\n",
    "cities_df = origin_df[origin_df['business_city'].isin(sample_cities)]\n",
    "\n",
    "#displaying the result \n",
    "print(\"The length of the resulting sample data is:\", len(cities_df))"
   ]
  },
  {
   "cell_type": "markdown",
   "id": "0ff5298a",
   "metadata": {},
   "source": [
    "# Q3. Descriptive statistics on the data output from Q2\n",
    "### Q3.1 Compute summary statistics for the `stars` column of the sample data\n",
    "Note: the resulting output includes the count, mean, standard deviation, minimum, maximum values of the column."
   ]
  },
  {
   "cell_type": "code",
   "execution_count": 14,
   "id": "02571c2c",
   "metadata": {},
   "outputs": [
    {
     "name": "stdout",
     "output_type": "stream",
     "text": [
      "count    41251.000000\n",
      "mean         3.711013\n",
      "std          1.239355\n",
      "min          1.000000\n",
      "25%          3.000000\n",
      "50%          4.000000\n",
      "75%          5.000000\n",
      "max          5.000000\n",
      "Name: stars, dtype: float64\n"
     ]
    }
   ],
   "source": [
    "# your code and solutions\n",
    "stars_stats = cities_df['stars'].describe()\n",
    "print(stars_stats)"
   ]
  },
  {
   "cell_type": "markdown",
   "id": "9ac40c1f",
   "metadata": {},
   "source": [
    "### Q3.2 For each city in the dataframe, how many unique businesses are there?\n",
    "\n",
    "Note: the resulting dataframe has two columns: `business_city` and `count`. Compute summary statistics (similar as Q 3.1) for the `count` column."
   ]
  },
  {
   "cell_type": "code",
   "execution_count": 15,
   "id": "42af9783",
   "metadata": {},
   "outputs": [
    {
     "name": "stdout",
     "output_type": "stream",
     "text": [
      "      business_city  count\n",
      "0         Ahwatukee      4\n",
      "1            Anthem     34\n",
      "2   Apache Junction     46\n",
      "3          Avondale    129\n",
      "4           Buckeye     31\n",
      "..              ...    ...\n",
      "56          Waddell      1\n",
      "57       Wickenburg     28\n",
      "58         Wittmann      2\n",
      "59        Youngtown      7\n",
      "60             Yuma      1\n",
      "\n",
      "[61 rows x 2 columns]\n",
      "count      61.000000\n",
      "mean      186.786885\n",
      "std       607.491485\n",
      "min         1.000000\n",
      "25%         2.000000\n",
      "50%         8.000000\n",
      "75%        47.000000\n",
      "max      4091.000000\n",
      "Name: count, dtype: float64\n"
     ]
    }
   ],
   "source": [
    "# your code and solutions\n",
    "city_counts = origin_df.groupby('business_city')['business_id'].nunique().reset_index()\n",
    "city_counts.columns = ['business_city', 'count']\n",
    "\n",
    "#Compute summary statistics (similar as Q 3.1) for the count column\n",
    "count_summary = city_counts['count'].describe()\n",
    "\n",
    "#displaying the results \n",
    "print(city_counts)\n",
    "print(count_summary)"
   ]
  },
  {
   "cell_type": "markdown",
   "id": "90c84abe",
   "metadata": {},
   "source": [
    "### Q3.3 For each business category and business ID combination in the dataframe, how many unique users have rated the business?\n",
    "\n",
    "Note: the resulting dataframe has three columns: `business_categories`, `business_id`, and `count`. Compute summary statistics (similar as Q 3.1) for the `count` column."
   ]
  },
  {
   "cell_type": "code",
   "execution_count": 16,
   "id": "442afa03",
   "metadata": {},
   "outputs": [
    {
     "name": "stdout",
     "output_type": "stream",
     "text": [
      "                                     business_categories  \\\n",
      "0      Accessories; Fashion; Shopping; Cosmetics & Be...   \n",
      "1                     Accountants; Professional Services   \n",
      "2                     Accountants; Professional Services   \n",
      "3                     Accountants; Professional Services   \n",
      "4                     Accountants; Professional Services   \n",
      "...                                                  ...   \n",
      "11311  Women's Clothing; Used, Vintage & Consignment;...   \n",
      "11312  Women's Clothing; Used, Vintage & Consignment;...   \n",
      "11313  Women's Clothing; Used, Vintage & Consignment;...   \n",
      "11314  Yoga; Beauty & Spas; Food; Juice Bars & Smooth...   \n",
      "11315  Yoga; Gyms; Weight Loss Centers; Health & Medi...   \n",
      "\n",
      "                  business_id  user_id  \n",
      "0      F-HBLqU3Kvs89lkQ5CjLBQ        4  \n",
      "1      2k1I66IxKL9vJnRQhXWkDQ        4  \n",
      "2      8EzwrhAxbeVbxuM24HElXA        5  \n",
      "3      T7acIuznS5juLqB-iUQFlg        3  \n",
      "4      aqYoDGcUljXeWSbL2heT0A        3  \n",
      "...                       ...      ...  \n",
      "11311  V3iZYqcJOoV2wMljgwK2Ig        7  \n",
      "11312  3HciJAVduCRoPDdzgh7cAA       70  \n",
      "11313  JmEp4DxBEIrFD-rgbL8bvQ       49  \n",
      "11314  tbANFIP17slL1xPIUsl1MA       30  \n",
      "11315  i9-qblQnpMmvE2G8wxJbaQ        3  \n",
      "\n",
      "[11316 rows x 3 columns]\n"
     ]
    },
    {
     "ename": "KeyError",
     "evalue": "'count'",
     "output_type": "error",
     "traceback": [
      "\u001b[1;31m---------------------------------------------------------------------------\u001b[0m",
      "\u001b[1;31mKeyError\u001b[0m                                  Traceback (most recent call last)",
      "\u001b[1;32m~\\anaconda3\\lib\\site-packages\\pandas\\core\\indexes\\base.py\u001b[0m in \u001b[0;36mget_loc\u001b[1;34m(self, key, method, tolerance)\u001b[0m\n\u001b[0;32m   3628\u001b[0m             \u001b[1;32mtry\u001b[0m\u001b[1;33m:\u001b[0m\u001b[1;33m\u001b[0m\u001b[1;33m\u001b[0m\u001b[0m\n\u001b[1;32m-> 3629\u001b[1;33m                 \u001b[1;32mreturn\u001b[0m \u001b[0mself\u001b[0m\u001b[1;33m.\u001b[0m\u001b[0m_engine\u001b[0m\u001b[1;33m.\u001b[0m\u001b[0mget_loc\u001b[0m\u001b[1;33m(\u001b[0m\u001b[0mcasted_key\u001b[0m\u001b[1;33m)\u001b[0m\u001b[1;33m\u001b[0m\u001b[1;33m\u001b[0m\u001b[0m\n\u001b[0m\u001b[0;32m   3630\u001b[0m             \u001b[1;32mexcept\u001b[0m \u001b[0mKeyError\u001b[0m \u001b[1;32mas\u001b[0m \u001b[0merr\u001b[0m\u001b[1;33m:\u001b[0m\u001b[1;33m\u001b[0m\u001b[1;33m\u001b[0m\u001b[0m\n",
      "\u001b[1;32m~\\anaconda3\\lib\\site-packages\\pandas\\_libs\\index.pyx\u001b[0m in \u001b[0;36mpandas._libs.index.IndexEngine.get_loc\u001b[1;34m()\u001b[0m\n",
      "\u001b[1;32m~\\anaconda3\\lib\\site-packages\\pandas\\_libs\\index.pyx\u001b[0m in \u001b[0;36mpandas._libs.index.IndexEngine.get_loc\u001b[1;34m()\u001b[0m\n",
      "\u001b[1;32mpandas\\_libs\\hashtable_class_helper.pxi\u001b[0m in \u001b[0;36mpandas._libs.hashtable.PyObjectHashTable.get_item\u001b[1;34m()\u001b[0m\n",
      "\u001b[1;32mpandas\\_libs\\hashtable_class_helper.pxi\u001b[0m in \u001b[0;36mpandas._libs.hashtable.PyObjectHashTable.get_item\u001b[1;34m()\u001b[0m\n",
      "\u001b[1;31mKeyError\u001b[0m: 'count'",
      "\nThe above exception was the direct cause of the following exception:\n",
      "\u001b[1;31mKeyError\u001b[0m                                  Traceback (most recent call last)",
      "\u001b[1;32m~\\AppData\\Local\\Temp\\ipykernel_18748\\533815026.py\u001b[0m in \u001b[0;36m<module>\u001b[1;34m\u001b[0m\n\u001b[0;32m      9\u001b[0m \u001b[1;33m\u001b[0m\u001b[0m\n\u001b[0;32m     10\u001b[0m \u001b[1;31m#summary statistics for the count column\u001b[0m\u001b[1;33m\u001b[0m\u001b[1;33m\u001b[0m\u001b[0m\n\u001b[1;32m---> 11\u001b[1;33m \u001b[0mprint\u001b[0m\u001b[1;33m(\u001b[0m\u001b[0munique_users\u001b[0m\u001b[1;33m[\u001b[0m\u001b[1;34m'count'\u001b[0m\u001b[1;33m]\u001b[0m\u001b[1;33m.\u001b[0m\u001b[0mdescribe\u001b[0m\u001b[1;33m(\u001b[0m\u001b[1;33m)\u001b[0m\u001b[1;33m)\u001b[0m\u001b[1;33m\u001b[0m\u001b[1;33m\u001b[0m\u001b[0m\n\u001b[0m",
      "\u001b[1;32m~\\anaconda3\\lib\\site-packages\\pandas\\core\\frame.py\u001b[0m in \u001b[0;36m__getitem__\u001b[1;34m(self, key)\u001b[0m\n\u001b[0;32m   3503\u001b[0m             \u001b[1;32mif\u001b[0m \u001b[0mself\u001b[0m\u001b[1;33m.\u001b[0m\u001b[0mcolumns\u001b[0m\u001b[1;33m.\u001b[0m\u001b[0mnlevels\u001b[0m \u001b[1;33m>\u001b[0m \u001b[1;36m1\u001b[0m\u001b[1;33m:\u001b[0m\u001b[1;33m\u001b[0m\u001b[1;33m\u001b[0m\u001b[0m\n\u001b[0;32m   3504\u001b[0m                 \u001b[1;32mreturn\u001b[0m \u001b[0mself\u001b[0m\u001b[1;33m.\u001b[0m\u001b[0m_getitem_multilevel\u001b[0m\u001b[1;33m(\u001b[0m\u001b[0mkey\u001b[0m\u001b[1;33m)\u001b[0m\u001b[1;33m\u001b[0m\u001b[1;33m\u001b[0m\u001b[0m\n\u001b[1;32m-> 3505\u001b[1;33m             \u001b[0mindexer\u001b[0m \u001b[1;33m=\u001b[0m \u001b[0mself\u001b[0m\u001b[1;33m.\u001b[0m\u001b[0mcolumns\u001b[0m\u001b[1;33m.\u001b[0m\u001b[0mget_loc\u001b[0m\u001b[1;33m(\u001b[0m\u001b[0mkey\u001b[0m\u001b[1;33m)\u001b[0m\u001b[1;33m\u001b[0m\u001b[1;33m\u001b[0m\u001b[0m\n\u001b[0m\u001b[0;32m   3506\u001b[0m             \u001b[1;32mif\u001b[0m \u001b[0mis_integer\u001b[0m\u001b[1;33m(\u001b[0m\u001b[0mindexer\u001b[0m\u001b[1;33m)\u001b[0m\u001b[1;33m:\u001b[0m\u001b[1;33m\u001b[0m\u001b[1;33m\u001b[0m\u001b[0m\n\u001b[0;32m   3507\u001b[0m                 \u001b[0mindexer\u001b[0m \u001b[1;33m=\u001b[0m \u001b[1;33m[\u001b[0m\u001b[0mindexer\u001b[0m\u001b[1;33m]\u001b[0m\u001b[1;33m\u001b[0m\u001b[1;33m\u001b[0m\u001b[0m\n",
      "\u001b[1;32m~\\anaconda3\\lib\\site-packages\\pandas\\core\\indexes\\base.py\u001b[0m in \u001b[0;36mget_loc\u001b[1;34m(self, key, method, tolerance)\u001b[0m\n\u001b[0;32m   3629\u001b[0m                 \u001b[1;32mreturn\u001b[0m \u001b[0mself\u001b[0m\u001b[1;33m.\u001b[0m\u001b[0m_engine\u001b[0m\u001b[1;33m.\u001b[0m\u001b[0mget_loc\u001b[0m\u001b[1;33m(\u001b[0m\u001b[0mcasted_key\u001b[0m\u001b[1;33m)\u001b[0m\u001b[1;33m\u001b[0m\u001b[1;33m\u001b[0m\u001b[0m\n\u001b[0;32m   3630\u001b[0m             \u001b[1;32mexcept\u001b[0m \u001b[0mKeyError\u001b[0m \u001b[1;32mas\u001b[0m \u001b[0merr\u001b[0m\u001b[1;33m:\u001b[0m\u001b[1;33m\u001b[0m\u001b[1;33m\u001b[0m\u001b[0m\n\u001b[1;32m-> 3631\u001b[1;33m                 \u001b[1;32mraise\u001b[0m \u001b[0mKeyError\u001b[0m\u001b[1;33m(\u001b[0m\u001b[0mkey\u001b[0m\u001b[1;33m)\u001b[0m \u001b[1;32mfrom\u001b[0m \u001b[0merr\u001b[0m\u001b[1;33m\u001b[0m\u001b[1;33m\u001b[0m\u001b[0m\n\u001b[0m\u001b[0;32m   3632\u001b[0m             \u001b[1;32mexcept\u001b[0m \u001b[0mTypeError\u001b[0m\u001b[1;33m:\u001b[0m\u001b[1;33m\u001b[0m\u001b[1;33m\u001b[0m\u001b[0m\n\u001b[0;32m   3633\u001b[0m                 \u001b[1;31m# If we have a listlike key, _check_indexing_error will raise\u001b[0m\u001b[1;33m\u001b[0m\u001b[1;33m\u001b[0m\u001b[0m\n",
      "\u001b[1;31mKeyError\u001b[0m: 'count'"
     ]
    }
   ],
   "source": [
    "# your code and solutions\n",
    "users_business = origin_df.groupby(['business_categories', 'business_id', 'user_id']) .size().reset_index(name='count')\n",
    "\n",
    "# Group the dataframe and count the number of unique user IDs for each group\n",
    "unique_users = users_business.groupby(['business_categories', 'business_id'])['user_id'].nunique().reset_index()(name='count_users')\n",
    "\n",
    "#Display the resulting dataframe\n",
    "print(unique_users)\n",
    "\n",
    "#summary statistics for the count column\n",
    "print(unique_users['count_users'].describe())"
   ]
  },
  {
   "cell_type": "markdown",
   "id": "8e5b9d9f",
   "metadata": {},
   "source": [
    "# Q4. Plotting and Analysis"
   ]
  },
  {
   "cell_type": "markdown",
   "id": "1fe2a1bb",
   "metadata": {},
   "source": [
    "Explore the distribution of each variable, or the correlation between the `business_city`, `useful`,`business_categories` or `other variables` and the `stars` column in both the cleaned dataset from Q1 and the sampled dataset from Q2. For instance, does some cities tend to provide higher stars than others? Hint: you may use the boxplot function to plot figures for comparison (___Challenge___).\n",
    "    \n",
    "You may need to select the most suitable graphic forms for ease of presentation. Most importantly, for each figure or subfigure, please summarise ___what each plot shows___ (i.e. observations and explanations). Finally, you may need to provide an overall summary of the Yelp data."
   ]
  },
  {
   "cell_type": "markdown",
   "id": "d5e27994",
   "metadata": {},
   "source": [
    "Analysis and observation are open, and require you to think critically and analyze data to develop your own insights and conclusions. It's important for you to analyze the data, identify patterns, draw your own conclusions, and communicate your findings. This fosters critical thinking skills, ownership of learning, and a deeper understanding of the data."
   ]
  },
  {
   "cell_type": "code",
   "execution_count": 38,
   "id": "1e33a534",
   "metadata": {
    "scrolled": true
   },
   "outputs": [
    {
     "data": {
      "image/png": "[encoded data removed]",
      "text/plain": [
       "<Figure size 800x500 with 1 Axes>"
      ]
     },
     "metadata": {},
     "output_type": "display_data"
    }
   ],
   "source": [
    "# your code and solutions\n",
    "# sizing the histogram \n",
    "plt.figure(figsize=(8, 5))\n",
    "\n",
    "#ploting the data into histogram \n",
    "plt.boxplot([cities_df[cities_df['business_city'] == city]['stars'] for city in sample_cities], labels=sample_cities, vert=False)\n",
    "\n",
    "# puting the title for the histogram\n",
    "plt.title('(Graph 1) Stars by City in 10 random cities')\n",
    "\n",
    "# puting the x and y labels\n",
    "plt.xlabel('Stars')\n",
    "plt.ylabel('City')\n",
    "\n",
    "#displaying the graph\n",
    "plt.show()"
   ]
  },
  {
   "cell_type": "markdown",
   "id": "cbc08fce",
   "metadata": {},
   "source": [
    "summary:The figure shows that the majority of the cities have a median star rating between 3.5 and 4.5 stars. Yet, certain places have a lower median rating while othershave a higher median rating.The distribution of star ratings differs amongst the cities as well, with some having a more dispersed distribution and others having a more concentrated one."
   ]
  },
  {
   "cell_type": "code",
   "execution_count": 39,
   "id": "7dd8449f",
   "metadata": {},
   "outputs": [
    {
     "data": {
      "image/png": "[encoded data removed]",
      "text/plain": [
       "<Figure size 640x480 with 1 Axes>"
      ]
     },
     "metadata": {},
     "output_type": "display_data"
    }
   ],
   "source": [
    "#ploting the data into histogram\n",
    "plt.hist(origin_df['stars'], bins=5, alpha=0.5)\n",
    "\n",
    "# puting the title for the histogram\n",
    "plt.title('(Graph 2) Histogram of Stars in Dataset')\n",
    "\n",
    "# puting the x and y labels\n",
    "plt.xlabel('Stars')\n",
    "plt.ylabel('Frequency')\n",
    "\n",
    "#displaying the graph\n",
    "plt.show()"
   ]
  },
  {
   "cell_type": "markdown",
   "id": "e2928487",
   "metadata": {},
   "source": [
    "The histogram shows that 4 stars and 5 stars are the most frquently assigned ratings.With fewer firms obtaining lower star ratings.With fewer firms obtaining lower star ratings.This shows that Yelp users fequently give businesses positive reviews."
   ]
  }
 ],
 "metadata": {
  "kernelspec": {
   "display_name": "Python 3 (ipykernel)",
   "language": "python",
   "name": "python3"
  },
  "language_info": {
   "codemirror_mode": {
    "name": "ipython",
    "version": 3
   },
   "file_extension": ".py",
   "mimetype": "text/x-python",
   "name": "python",
   "nbconvert_exporter": "python",
   "pygments_lexer": "ipython3",
   "version": "3.9.13"
  }
 },
 "nbformat": 4,
 "nbformat_minor": 5
}
